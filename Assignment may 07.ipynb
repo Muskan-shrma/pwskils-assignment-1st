{
 "cells": [
  {
   "cell_type": "raw",
   "id": "daf611f5-f817-4409-9990-f7b0e549fa09",
   "metadata": {},
   "source": [
    "Q1. Create one variable containing following type of data:\n",
    "(i) string\n",
    "(ii) list\n",
    "(iii) float\n",
    "(iv) tuple"
   ]
  },
  {
   "cell_type": "code",
   "execution_count": 2,
   "id": "29cb2300-ed0c-41e6-8452-c8127c297808",
   "metadata": {},
   "outputs": [],
   "source": [
    "m='Muskan'"
   ]
  },
  {
   "cell_type": "code",
   "execution_count": 31,
   "id": "f6f275fa-c0b1-46d7-9933-d76c6baefb37",
   "metadata": {},
   "outputs": [
    {
     "name": "stdout",
     "output_type": "stream",
     "text": [
      "Muskan\n"
     ]
    },
    {
     "data": {
      "text/plain": [
       "str"
      ]
     },
     "execution_count": 31,
     "metadata": {},
     "output_type": "execute_result"
    }
   ],
   "source": [
    "print(m)\n",
    "type(m)"
   ]
  },
  {
   "cell_type": "code",
   "execution_count": 17,
   "id": "599f9ca3-c1e2-427a-85c8-fe74cdabcfab",
   "metadata": {},
   "outputs": [],
   "source": [
    "l = [1, 2, 34.5, 9+4j, 'Muskan', True]"
   ]
  },
  {
   "cell_type": "code",
   "execution_count": 32,
   "id": "9ca898f8-feaa-4e60-87ae-3a3ecc838647",
   "metadata": {},
   "outputs": [
    {
     "name": "stdout",
     "output_type": "stream",
     "text": [
      "[1, 2, 34.5, (9+4j), 'Muskan', True]\n"
     ]
    },
    {
     "data": {
      "text/plain": [
       "list"
      ]
     },
     "execution_count": 32,
     "metadata": {},
     "output_type": "execute_result"
    }
   ],
   "source": [
    "print(l)\n",
    "type(l)"
   ]
  },
  {
   "cell_type": "code",
   "execution_count": 21,
   "id": "a5d4957a-fcc0-45a6-959b-110f29f20a7b",
   "metadata": {},
   "outputs": [],
   "source": [
    "f = 34.56"
   ]
  },
  {
   "cell_type": "code",
   "execution_count": 33,
   "id": "fe71ef0c-edf7-4143-86f7-e65b275b4dc8",
   "metadata": {},
   "outputs": [
    {
     "name": "stdout",
     "output_type": "stream",
     "text": [
      "34.56\n"
     ]
    },
    {
     "data": {
      "text/plain": [
       "float"
      ]
     },
     "execution_count": 33,
     "metadata": {},
     "output_type": "execute_result"
    }
   ],
   "source": [
    "print(f)\n",
    "type(f)"
   ]
  },
  {
   "cell_type": "code",
   "execution_count": 55,
   "id": "2f916818-1666-4b8b-b8b7-8f86b5ae69a6",
   "metadata": {},
   "outputs": [
    {
     "name": "stdout",
     "output_type": "stream",
     "text": [
      "('Black', 'Red', 'Blue')\n",
      "<class 'tuple'>\n"
     ]
    }
   ],
   "source": [
    "tuple = (\"Black\",\"Red\",\"Blue\")\n",
    "print(tuple)\n",
    "print(type(tuple))\n"
   ]
  },
  {
   "cell_type": "raw",
   "id": "ac006da2-0bee-4439-9fef-2f489fed7cab",
   "metadata": {},
   "source": [
    "Q2. Given are some following variables containing data:\n",
    "(i) var1 = ‘ ‘\n",
    "(ii) var2 = ‘[ DS , ML , Python]’\n",
    "(iii) var3 = [ ‘DS’ , ’ML’ , ‘Python’ ]\n",
    "(iv) var4 = 1.\n",
    "What will be the data type of the above given variable."
   ]
  },
  {
   "cell_type": "code",
   "execution_count": 61,
   "id": "e4eb3bde-acf2-4f53-81a7-b6502e08c4b1",
   "metadata": {},
   "outputs": [
    {
     "data": {
      "text/plain": [
       "str"
      ]
     },
     "execution_count": 61,
     "metadata": {},
     "output_type": "execute_result"
    }
   ],
   "source": [
    "var1 = ' '\n",
    "type(var1)"
   ]
  },
  {
   "cell_type": "code",
   "execution_count": 63,
   "id": "2cb4d120-49f3-4faf-9a40-6fad50d9f818",
   "metadata": {},
   "outputs": [
    {
     "data": {
      "text/plain": [
       "str"
      ]
     },
     "execution_count": 63,
     "metadata": {},
     "output_type": "execute_result"
    }
   ],
   "source": [
    "var2 = '[ DS , ML , Python]'\n",
    "type(var2)"
   ]
  },
  {
   "cell_type": "code",
   "execution_count": 66,
   "id": "bca91bd0-8f36-4c17-9469-b80f78cfcbb4",
   "metadata": {},
   "outputs": [
    {
     "data": {
      "text/plain": [
       "list"
      ]
     },
     "execution_count": 66,
     "metadata": {},
     "output_type": "execute_result"
    }
   ],
   "source": [
    "var3 = [ 'DS' , 'ML' , 'Python' ]\n",
    "type(var3)"
   ]
  },
  {
   "cell_type": "code",
   "execution_count": 68,
   "id": "10726bf5-2f59-4470-91df-6495b108dc68",
   "metadata": {},
   "outputs": [
    {
     "data": {
      "text/plain": [
       "int"
      ]
     },
     "execution_count": 68,
     "metadata": {},
     "output_type": "execute_result"
    }
   ],
   "source": [
    "var4 = 1\n",
    "type(var4)"
   ]
  },
  {
   "cell_type": "raw",
   "id": "55554297-c11c-4995-8b61-be8a970a1021",
   "metadata": {},
   "source": [
    "Q3. Explain the use of the following operators using an example:\n",
    "(i) /\n",
    "(ii) %\n",
    "(iii) //\n",
    "(iv) **"
   ]
  },
  {
   "cell_type": "code",
   "execution_count": 70,
   "id": "f44ec6f9-95f2-4c6c-b794-f5406aee2a88",
   "metadata": {},
   "outputs": [
    {
     "data": {
      "text/plain": [
       "25.0"
      ]
     },
     "execution_count": 70,
     "metadata": {},
     "output_type": "execute_result"
    }
   ],
   "source": [
    "50/2"
   ]
  },
  {
   "cell_type": "raw",
   "id": "1b958061-be55-44ed-9b3f-5396a43dadca",
   "metadata": {},
   "source": [
    "/ -> this operator is to divide two numbers as an arithmatic operation"
   ]
  },
  {
   "cell_type": "code",
   "execution_count": 72,
   "id": "a73ad7f4-bbba-4ca2-9627-29bd5380e95a",
   "metadata": {},
   "outputs": [
    {
     "data": {
      "text/plain": [
       "2"
      ]
     },
     "execution_count": 72,
     "metadata": {},
     "output_type": "execute_result"
    }
   ],
   "source": [
    "500%3"
   ]
  },
  {
   "cell_type": "raw",
   "id": "3c58cdb5-8073-4c2e-94fc-5757cff88319",
   "metadata": {},
   "source": [
    "% -> this operator is modulus which specifies the remainder of the division"
   ]
  },
  {
   "cell_type": "code",
   "execution_count": 80,
   "id": "e5d126f6-3cfe-49cb-bbe4-8034e4da2791",
   "metadata": {},
   "outputs": [
    {
     "data": {
      "text/plain": [
       "11.11111111111111"
      ]
     },
     "execution_count": 80,
     "metadata": {},
     "output_type": "execute_result"
    }
   ],
   "source": [
    "100/9"
   ]
  },
  {
   "cell_type": "code",
   "execution_count": 82,
   "id": "61296a89-418e-46de-9b97-ea72b445d8cb",
   "metadata": {},
   "outputs": [
    {
     "data": {
      "text/plain": [
       "11"
      ]
     },
     "execution_count": 82,
     "metadata": {},
     "output_type": "execute_result"
    }
   ],
   "source": [
    "100//9"
   ]
  },
  {
   "cell_type": "raw",
   "id": "482777d8-629f-424a-9b04-e5da69737c64",
   "metadata": {},
   "source": [
    "// -> this operator is floor division operator it gives the nearest quotient to the division"
   ]
  },
  {
   "cell_type": "code",
   "execution_count": 84,
   "id": "0a18d632-4655-4c74-893b-d66e4e32d222",
   "metadata": {},
   "outputs": [
    {
     "data": {
      "text/plain": [
       "3125"
      ]
     },
     "execution_count": 84,
     "metadata": {},
     "output_type": "execute_result"
    }
   ],
   "source": [
    "5**5"
   ]
  },
  {
   "cell_type": "raw",
   "id": "e5108170-c24f-45ba-861e-3ca567c172ea",
   "metadata": {},
   "source": [
    "** -> this is an exponential operator, if a**b it means a raised to the power of b"
   ]
  },
  {
   "cell_type": "raw",
   "id": "0e848233-a4db-437f-9ac7-8c690fc02b10",
   "metadata": {},
   "source": []
  },
  {
   "cell_type": "raw",
   "id": "48c34f6b-b939-4b4c-ac32-c1f56d072380",
   "metadata": {},
   "source": [
    "Q4. Create a list of length 10 of your choice containing multiple types of data. Using for loop print the\n",
    "element and its data type."
   ]
  },
  {
   "cell_type": "code",
   "execution_count": 89,
   "id": "8a140658-8730-42ad-bec5-158a72b279c2",
   "metadata": {},
   "outputs": [
    {
     "name": "stdout",
     "output_type": "stream",
     "text": [
      "1\n",
      "<class 'int'>\n",
      "2.3\n",
      "<class 'float'>\n",
      "(3+4j)\n",
      "<class 'complex'>\n",
      "muskan\n",
      "<class 'str'>\n",
      "True\n",
      "<class 'bool'>\n"
     ]
    }
   ],
   "source": [
    "l = [1, 2.3 , 3+4j ,'muskan', True]\n",
    "for i in l:\n",
    "    print(i)\n",
    "    print(type(i))"
   ]
  },
  {
   "cell_type": "raw",
   "id": "19b4dabf-bb97-444b-b7a6-9776ed773cb2",
   "metadata": {},
   "source": [
    "Q5. Using a while loop, verify if the number A is purely divisible by number B and if so then how many\n",
    "times it can be divisible."
   ]
  },
  {
   "cell_type": "code",
   "execution_count": 32,
   "id": "c1651025-eb77-41b2-ae77-76c1482cbcaa",
   "metadata": {},
   "outputs": [
    {
     "name": "stdout",
     "output_type": "stream",
     "text": [
      "0 50\n"
     ]
    },
    {
     "ename": "TypeError",
     "evalue": "unsupported operand type(s) for /: 'str' and 'int'",
     "output_type": "error",
     "traceback": [
      "\u001b[0;31m---------------------------------------------------------------------------\u001b[0m",
      "\u001b[0;31mTypeError\u001b[0m                                 Traceback (most recent call last)",
      "Cell \u001b[0;32mIn[33], line 2\u001b[0m\n\u001b[1;32m      1\u001b[0m b\u001b[38;5;241m=\u001b[39m\u001b[38;5;241m2\u001b[39m\n\u001b[0;32m----> 2\u001b[0m \u001b[38;5;28;01mwhile\u001b[39;00m \u001b[38;5;28;43minput\u001b[39;49m\u001b[43m(\u001b[49m\u001b[38;5;28;43mint\u001b[39;49m\u001b[43m(\u001b[49m\u001b[43m)\u001b[49m\u001b[43m)\u001b[49m\u001b[38;5;241;43m/\u001b[39;49m\u001b[43mb\u001b[49m:\n\u001b[1;32m      3\u001b[0m     \u001b[38;5;28;01mif\u001b[39;00m a\u001b[38;5;241m%\u001b[39mb \u001b[38;5;241m==\u001b[39m \u001b[38;5;241m0\u001b[39m:\n\u001b[1;32m      4\u001b[0m         \u001b[38;5;28mprint\u001b[39m (\u001b[38;5;124m\"\u001b[39m\u001b[38;5;124ma is purely divisible by b\u001b[39m\u001b[38;5;124m\"\u001b[39m)\n",
      "\u001b[0;31mTypeError\u001b[0m: unsupported operand type(s) for /: 'str' and 'int'"
     ]
    }
   ],
   "source": [
    "a= input(int())\n",
    "b=2\n",
    "while a/b:\n",
    "    if a%b == 0:\n",
    "        print (\"a is purely divisible by b\" a/b \"times\")\n",
    "    else :\n",
    "        print (\"a is not purely divisible by b and the remaider is\")"
   ]
  },
  {
   "cell_type": "code",
   "execution_count": null,
   "id": "7da3f492-61e7-414b-a53b-c54d6a0a1896",
   "metadata": {},
   "outputs": [],
   "source": []
  },
  {
   "cell_type": "raw",
   "id": "1cb13045-7608-47cd-b333-5f0952b4ae58",
   "metadata": {},
   "source": [
    "Q6. Create a list containing 25 int type data. Using for loop and if-else condition print if the element is\n",
    "divisible by 3 or not."
   ]
  },
  {
   "cell_type": "code",
   "execution_count": 36,
   "id": "5a9644fd-e02d-4995-bae9-e8e973d2d80e",
   "metadata": {},
   "outputs": [],
   "source": [
    "l=[1,2,3,4,5,6,7,8,9,10,11,12,13,14,15,16,17,18,19,20,21,22,23,24,25]\n",
    "for i in l :\n",
    "    if i/3==0:\n",
    "        print(i)\n",
    "        i=i+1"
   ]
  },
  {
   "cell_type": "raw",
   "id": "c238a719-36a4-47e8-96aa-4a49dabd61fe",
   "metadata": {},
   "source": [
    "Q7. What do you understand about mutable and immutable data types? Give examples for both showing\n",
    "this property.\n"
   ]
  },
  {
   "cell_type": "code",
   "execution_count": 8,
   "id": "621e74dd-effa-4a2e-8f35-e0e79bbca45d",
   "metadata": {},
   "outputs": [
    {
     "ename": "SyntaxError",
     "evalue": "cannot assign to function call here. Maybe you meant '==' instead of '='? (527895918.py, line 2)",
     "output_type": "error",
     "traceback": [
      "\u001b[0;36m  Cell \u001b[0;32mIn[8], line 2\u001b[0;36m\u001b[0m\n\u001b[0;31m    m(4)=a\u001b[0m\n\u001b[0m    ^\u001b[0m\n\u001b[0;31mSyntaxError\u001b[0m\u001b[0;31m:\u001b[0m cannot assign to function call here. Maybe you meant '==' instead of '='?\n"
     ]
    }
   ],
   "source": [
    "m='muskan'\n",
    "m(4)=a\n",
    "print(m)"
   ]
  },
  {
   "cell_type": "code",
   "execution_count": 13,
   "id": "d31bb3f3-6b9a-4c90-a29a-d4d886cb317e",
   "metadata": {},
   "outputs": [
    {
     "name": "stdout",
     "output_type": "stream",
     "text": [
      "['m', 'u', 's', 'k', 'k', 'n']\n"
     ]
    }
   ],
   "source": [
    "l=['m','u','s','k','a','n']\n",
    "l[4]='k'\n",
    "print(l)"
   ]
  },
  {
   "cell_type": "raw",
   "id": "4fd73258-0fc5-4880-b008-5f34a97bc873",
   "metadata": {},
   "source": [
    "here in string you can not change the index componentin string this concept is known as imutable and in list this is known as mutable. "
   ]
  }
 ],
 "metadata": {
  "kernelspec": {
   "display_name": "Python 3 (ipykernel)",
   "language": "python",
   "name": "python3"
  },
  "language_info": {
   "codemirror_mode": {
    "name": "ipython",
    "version": 3
   },
   "file_extension": ".py",
   "mimetype": "text/x-python",
   "name": "python",
   "nbconvert_exporter": "python",
   "pygments_lexer": "ipython3",
   "version": "3.10.8"
  }
 },
 "nbformat": 4,
 "nbformat_minor": 5
}
